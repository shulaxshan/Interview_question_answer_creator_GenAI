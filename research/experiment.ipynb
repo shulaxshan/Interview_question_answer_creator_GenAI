{
 "cells": [
  {
   "cell_type": "code",
   "execution_count": 2,
   "id": "d3d7e1db",
   "metadata": {},
   "outputs": [],
   "source": [
    "import os\n",
    "from dotenv import load_dotenv"
   ]
  },
  {
   "cell_type": "code",
   "execution_count": 1,
   "id": "67ef32ef",
   "metadata": {},
   "outputs": [
    {
     "data": {
      "text/plain": [
       "'d:\\\\My_learnings\\\\Interview_question_answer_creator_GenAI\\\\research'"
      ]
     },
     "execution_count": 1,
     "metadata": {},
     "output_type": "execute_result"
    }
   ],
   "source": [
    "%pwd"
   ]
  },
  {
   "cell_type": "code",
   "execution_count": 6,
   "id": "28a3eb13",
   "metadata": {},
   "outputs": [],
   "source": [
    "load_dotenv()\n",
    "OPENAI_API_KEY= os.getenv(\"OPENAI_API_KEY\")"
   ]
  },
  {
   "cell_type": "code",
   "execution_count": 7,
   "id": "ec200d51",
   "metadata": {},
   "outputs": [],
   "source": [
    "os.environ[\"OPENAI_API_KEY\"] = OPENAI_API_KEY"
   ]
  },
  {
   "cell_type": "code",
   "execution_count": 8,
   "id": "c21750f3",
   "metadata": {},
   "outputs": [],
   "source": [
    "from langchain.document_loaders import PyPDFLoader"
   ]
  },
  {
   "cell_type": "code",
   "execution_count": 9,
   "id": "fddabac7",
   "metadata": {},
   "outputs": [
    {
     "name": "stdout",
     "output_type": "stream",
     "text": [
      "d:\\My_learnings\\Interview_question_answer_creator_GenAI\n"
     ]
    },
    {
     "name": "stderr",
     "output_type": "stream",
     "text": [
      "d:\\My_learnings\\Interview_question_answer_creator_GenAI\\interview\\lib\\site-packages\\IPython\\core\\magics\\osm.py:417: UserWarning: This is now an optional IPython functionality, setting dhist requires you to install the `pickleshare` library.\n",
      "  self.shell.db['dhist'] = compress_dhist(dhist)[-100:]\n"
     ]
    }
   ],
   "source": [
    "%cd .."
   ]
  },
  {
   "cell_type": "code",
   "execution_count": 10,
   "id": "0bbdd938",
   "metadata": {},
   "outputs": [
    {
     "data": {
      "text/plain": [
       "'d:\\\\My_learnings\\\\Interview_question_answer_creator_GenAI'"
      ]
     },
     "execution_count": 10,
     "metadata": {},
     "output_type": "execute_result"
    }
   ],
   "source": [
    "%pwd"
   ]
  },
  {
   "cell_type": "code",
   "execution_count": 11,
   "id": "db80d6bb",
   "metadata": {},
   "outputs": [],
   "source": [
    "file_path = \"data\\WA_02_Supervised Learning.pdf\"\n",
    "loader = PyPDFLoader(file_path)\n",
    "data = loader.load()"
   ]
  },
  {
   "cell_type": "code",
   "execution_count": 12,
   "id": "654dd033",
   "metadata": {},
   "outputs": [
    {
     "data": {
      "text/plain": [
       "[Document(metadata={'producer': 'PyPDF', 'creator': 'Google', 'creationdate': '', 'title': 'WA_02_Supervised Learning.pptx', 'source': 'data\\\\WA_02_Supervised Learning.pdf', 'total_pages': 21, 'page': 0, 'page_label': '1'}, page_content='Supervised Learning'),\n",
       " Document(metadata={'producer': 'PyPDF', 'creator': 'Google', 'creationdate': '', 'title': 'WA_02_Supervised Learning.pptx', 'source': 'data\\\\WA_02_Supervised Learning.pdf', 'total_pages': 21, 'page': 1, 'page_label': '2'}, page_content='Data Mining Process'),\n",
       " Document(metadata={'producer': 'PyPDF', 'creator': 'Google', 'creationdate': '', 'title': 'WA_02_Supervised Learning.pptx', 'source': 'data\\\\WA_02_Supervised Learning.pdf', 'total_pages': 21, 'page': 2, 'page_label': '3'}, page_content='AutoML'),\n",
       " Document(metadata={'producer': 'PyPDF', 'creator': 'Google', 'creationdate': '', 'title': 'WA_02_Supervised Learning.pptx', 'source': 'data\\\\WA_02_Supervised Learning.pdf', 'total_pages': 21, 'page': 3, 'page_label': '4'}, page_content='Supervised Learning\\n•The computer is provided with example inputs that are labeled with \\ntheir desired outputs. \\n•Supervised learning uses patterns to predict label values on additional \\nunlabeled data.\\n•An algorithm may be fed data with images of sharks labeled as fish \\nand images of oceans labeled as water. \\n•By being trained on this data, the supervised learning algorithm \\nshould be able to later identify unlabeled shark images as fish and \\nunlabeled ocean images as water.'),\n",
       " Document(metadata={'producer': 'PyPDF', 'creator': 'Google', 'creationdate': '', 'title': 'WA_02_Supervised Learning.pptx', 'source': 'data\\\\WA_02_Supervised Learning.pdf', 'total_pages': 21, 'page': 4, 'page_label': '5'}, page_content='Supervised Learning'),\n",
       " Document(metadata={'producer': 'PyPDF', 'creator': 'Google', 'creationdate': '', 'title': 'WA_02_Supervised Learning.pptx', 'source': 'data\\\\WA_02_Supervised Learning.pdf', 'total_pages': 21, 'page': 5, 'page_label': '6'}, page_content='What is Classification'),\n",
       " Document(metadata={'producer': 'PyPDF', 'creator': 'Google', 'creationdate': '', 'title': 'WA_02_Supervised Learning.pptx', 'source': 'data\\\\WA_02_Supervised Learning.pdf', 'total_pages': 21, 'page': 6, 'page_label': '7'}, page_content='Training & Testing'),\n",
       " Document(metadata={'producer': 'PyPDF', 'creator': 'Google', 'creationdate': '', 'title': 'WA_02_Supervised Learning.pptx', 'source': 'data\\\\WA_02_Supervised Learning.pdf', 'total_pages': 21, 'page': 7, 'page_label': '8'}, page_content='Percentage Split'),\n",
       " Document(metadata={'producer': 'PyPDF', 'creator': 'Google', 'creationdate': '', 'title': 'WA_02_Supervised Learning.pptx', 'source': 'data\\\\WA_02_Supervised Learning.pdf', 'total_pages': 21, 'page': 8, 'page_label': '9'}, page_content='Cross Validation'),\n",
       " Document(metadata={'producer': 'PyPDF', 'creator': 'Google', 'creationdate': '', 'title': 'WA_02_Supervised Learning.pptx', 'source': 'data\\\\WA_02_Supervised Learning.pdf', 'total_pages': 21, 'page': 9, 'page_label': '10'}, page_content='Cross Validation'),\n",
       " Document(metadata={'producer': 'PyPDF', 'creator': 'Google', 'creationdate': '', 'title': 'WA_02_Supervised Learning.pptx', 'source': 'data\\\\WA_02_Supervised Learning.pdf', 'total_pages': 21, 'page': 10, 'page_label': '11'}, page_content='In Simple Terms?\\nBuy a Bike\\nProbability 65% \\nBuy a Bike\\nProbability  20% \\nAge 30\\nCars 1\\nCars 2\\nAge 60'),\n",
       " Document(metadata={'producer': 'PyPDF', 'creator': 'Google', 'creationdate': '', 'title': 'WA_02_Supervised Learning.pptx', 'source': 'data\\\\WA_02_Supervised Learning.pdf', 'total_pages': 21, 'page': 11, 'page_label': '12'}, page_content='Iris-setosa Iris-versicolor\\nIris-virginica'),\n",
       " Document(metadata={'producer': 'PyPDF', 'creator': 'Google', 'creationdate': '', 'title': 'WA_02_Supervised Learning.pptx', 'source': 'data\\\\WA_02_Supervised Learning.pdf', 'total_pages': 21, 'page': 12, 'page_label': '13'}, page_content=''),\n",
       " Document(metadata={'producer': 'PyPDF', 'creator': 'Google', 'creationdate': '', 'title': 'WA_02_Supervised Learning.pptx', 'source': 'data\\\\WA_02_Supervised Learning.pdf', 'total_pages': 21, 'page': 13, 'page_label': '14'}, page_content='Accuracy of NB\\n•Error Rate\\n•(T  - C ) / T\\n• T – Number of Objects\\n• C – correctly classified objects.\\n•Confusion matrix\\n Predicated \\nClass\\nTrue Class\\n A B C\\nA 8 1 1\\nB 2 9 2\\nC 0 0 7'),\n",
       " Document(metadata={'producer': 'PyPDF', 'creator': 'Google', 'creationdate': '', 'title': 'WA_02_Supervised Learning.pptx', 'source': 'data\\\\WA_02_Supervised Learning.pdf', 'total_pages': 21, 'page': 14, 'page_label': '15'}, page_content='Classification Performance Measures \\n•Recall = a/(a+c) where a + c > 0 (o.w. undefined).  \\n•Did we find all of those that belonged in the class?\\n•Precision = a/(a+b) where a+b>0 (o.w. undefined).\\n•Of the times we predicted it was “in class”, how often are we correct?'),\n",
       " Document(metadata={'producer': 'PyPDF', 'creator': 'Google', 'creationdate': '', 'title': 'WA_02_Supervised Learning.pptx', 'source': 'data\\\\WA_02_Supervised Learning.pdf', 'total_pages': 21, 'page': 15, 'page_label': '16'}, page_content='F1 Score / F1 Measure'),\n",
       " Document(metadata={'producer': 'PyPDF', 'creator': 'Google', 'creationdate': '', 'title': 'WA_02_Supervised Learning.pptx', 'source': 'data\\\\WA_02_Supervised Learning.pdf', 'total_pages': 21, 'page': 16, 'page_label': '17'}, page_content=\"Matthews Correlation Coefficient\\nThe MCC doesn't depend on which class is the positive one, which has \\nthe advantage over the F1 score to avoid incorrectly defining the \\npositive class.\"),\n",
       " Document(metadata={'producer': 'PyPDF', 'creator': 'Google', 'creationdate': '', 'title': 'WA_02_Supervised Learning.pptx', 'source': 'data\\\\WA_02_Supervised Learning.pdf', 'total_pages': 21, 'page': 17, 'page_label': '18'}, page_content='•False Positive (FP)\\n•FP cases are those that did not belong to a class but allocated to it.\\n•False Negative (FN)\\n•FN are cases that belong to a class but were not allocated to it.\\n FP FN\\nClass 1 2 2\\nClass 2 4 1\\nClass 3 0 3'),\n",
       " Document(metadata={'producer': 'PyPDF', 'creator': 'Google', 'creationdate': '', 'title': 'WA_02_Supervised Learning.pptx', 'source': 'data\\\\WA_02_Supervised Learning.pdf', 'total_pages': 21, 'page': 18, 'page_label': '19'}, page_content='•Sensitivity = TP / (TP + FN)\\n•Specificity = TN/(TN + FP )'),\n",
       " Document(metadata={'producer': 'PyPDF', 'creator': 'Google', 'creationdate': '', 'title': 'WA_02_Supervised Learning.pptx', 'source': 'data\\\\WA_02_Supervised Learning.pdf', 'total_pages': 21, 'page': 19, 'page_label': '20'}, page_content='Decision Trees'),\n",
       " Document(metadata={'producer': 'PyPDF', 'creator': 'Google', 'creationdate': '', 'title': 'WA_02_Supervised Learning.pptx', 'source': 'data\\\\WA_02_Supervised Learning.pdf', 'total_pages': 21, 'page': 20, 'page_label': '21'}, page_content='')]"
      ]
     },
     "execution_count": 12,
     "metadata": {},
     "output_type": "execute_result"
    }
   ],
   "source": [
    "data"
   ]
  },
  {
   "cell_type": "code",
   "execution_count": 13,
   "id": "0e091613",
   "metadata": {},
   "outputs": [
    {
     "data": {
      "text/plain": [
       "21"
      ]
     },
     "execution_count": 13,
     "metadata": {},
     "output_type": "execute_result"
    }
   ],
   "source": [
    "len(data)"
   ]
  },
  {
   "cell_type": "code",
   "execution_count": 14,
   "id": "4f7b831a",
   "metadata": {},
   "outputs": [],
   "source": [
    "question_gen = \"\"\n",
    "for page in data:\n",
    "    question_gen += page.page_content"
   ]
  },
  {
   "cell_type": "code",
   "execution_count": 15,
   "id": "dbd38671",
   "metadata": {},
   "outputs": [
    {
     "data": {
      "text/plain": [
       "\"Supervised LearningData Mining ProcessAutoMLSupervised Learning\\n•The computer is provided with example inputs that are labeled with \\ntheir desired outputs. \\n•Supervised learning uses patterns to predict label values on additional \\nunlabeled data.\\n•An algorithm may be fed data with images of sharks labeled as fish \\nand images of oceans labeled as water. \\n•By being trained on this data, the supervised learning algorithm \\nshould be able to later identify unlabeled shark images as fish and \\nunlabeled ocean images as water.Supervised LearningWhat is ClassificationTraining & TestingPercentage SplitCross ValidationCross ValidationIn Simple Terms?\\nBuy a Bike\\nProbability 65% \\nBuy a Bike\\nProbability  20% \\nAge 30\\nCars 1\\nCars 2\\nAge 60Iris-setosa Iris-versicolor\\nIris-virginicaAccuracy of NB\\n•Error Rate\\n•(T  - C ) / T\\n• T – Number of Objects\\n• C – correctly classified objects.\\n•Confusion matrix\\n Predicated \\nClass\\nTrue Class\\n A B C\\nA 8 1 1\\nB 2 9 2\\nC 0 0 7Classification Performance Measures \\n•Recall = a/(a+c) where a + c > 0 (o.w. undefined).  \\n•Did we find all of those that belonged in the class?\\n•Precision = a/(a+b) where a+b>0 (o.w. undefined).\\n•Of the times we predicted it was “in class”, how often are we correct?F1 Score / F1 MeasureMatthews Correlation Coefficient\\nThe MCC doesn't depend on which class is the positive one, which has \\nthe advantage over the F1 score to avoid incorrectly defining the \\npositive class.•False Positive (FP)\\n•FP cases are those that did not belong to a class but allocated to it.\\n•False Negative (FN)\\n•FN are cases that belong to a class but were not allocated to it.\\n FP FN\\nClass 1 2 2\\nClass 2 4 1\\nClass 3 0 3•Sensitivity = TP / (TP + FN)\\n•Specificity = TN/(TN + FP )Decision Trees\""
      ]
     },
     "execution_count": 15,
     "metadata": {},
     "output_type": "execute_result"
    }
   ],
   "source": [
    "question_gen"
   ]
  },
  {
   "cell_type": "code",
   "execution_count": 16,
   "id": "d0342531",
   "metadata": {},
   "outputs": [],
   "source": [
    "from langchain.text_splitter import TokenTextSplitter"
   ]
  },
  {
   "cell_type": "code",
   "execution_count": 20,
   "id": "3f2e3432",
   "metadata": {},
   "outputs": [],
   "source": [
    "from langchain.text_splitter import TokenTextSplitter\n",
    "\n",
    "splitter_ques_gen = TokenTextSplitter(\n",
    "    model_name= \"gpt-3.5-turbo\",\n",
    "    chunk_size= 1000,\n",
    "    chunk_overlap = 200\n",
    ")"
   ]
  },
  {
   "cell_type": "code",
   "execution_count": 21,
   "id": "05379c9e",
   "metadata": {},
   "outputs": [],
   "source": [
    "chunk_ques_gen = splitter_ques_gen.split_text(question_gen)"
   ]
  },
  {
   "cell_type": "code",
   "execution_count": 22,
   "id": "e53c021b",
   "metadata": {},
   "outputs": [
    {
     "data": {
      "text/plain": [
       "[\"Supervised LearningData Mining ProcessAutoMLSupervised Learning\\n•The computer is provided with example inputs that are labeled with \\ntheir desired outputs. \\n•Supervised learning uses patterns to predict label values on additional \\nunlabeled data.\\n•An algorithm may be fed data with images of sharks labeled as fish \\nand images of oceans labeled as water. \\n•By being trained on this data, the supervised learning algorithm \\nshould be able to later identify unlabeled shark images as fish and \\nunlabeled ocean images as water.Supervised LearningWhat is ClassificationTraining & TestingPercentage SplitCross ValidationCross ValidationIn Simple Terms?\\nBuy a Bike\\nProbability 65% \\nBuy a Bike\\nProbability  20% \\nAge 30\\nCars 1\\nCars 2\\nAge 60Iris-setosa Iris-versicolor\\nIris-virginicaAccuracy of NB\\n•Error Rate\\n•(T  - C ) / T\\n• T – Number of Objects\\n• C – correctly classified objects.\\n•Confusion matrix\\n Predicated \\nClass\\nTrue Class\\n A B C\\nA 8 1 1\\nB 2 9 2\\nC 0 0 7Classification Performance Measures \\n•Recall = a/(a+c) where a + c > 0 (o.w. undefined).  \\n•Did we find all of those that belonged in the class?\\n•Precision = a/(a+b) where a+b>0 (o.w. undefined).\\n•Of the times we predicted it was “in class”, how often are we correct?F1 Score / F1 MeasureMatthews Correlation Coefficient\\nThe MCC doesn't depend on which class is the positive one, which has \\nthe advantage over the F1 score to avoid incorrectly defining the \\npositive class.•False Positive (FP)\\n•FP cases are those that did not belong to a class but allocated to it.\\n•False Negative (FN)\\n•FN are cases that belong to a class but were not allocated to it.\\n FP FN\\nClass 1 2 2\\nClass 2 4 1\\nClass 3 0 3•Sensitivity = TP / (TP + FN)\\n•Specificity = TN/(TN + FP )Decision Trees\"]"
      ]
     },
     "execution_count": 22,
     "metadata": {},
     "output_type": "execute_result"
    }
   ],
   "source": [
    "chunk_ques_gen"
   ]
  },
  {
   "cell_type": "code",
   "execution_count": 23,
   "id": "42dbf007",
   "metadata": {},
   "outputs": [
    {
     "data": {
      "text/plain": [
       "1"
      ]
     },
     "execution_count": 23,
     "metadata": {},
     "output_type": "execute_result"
    }
   ],
   "source": [
    "len(chunk_ques_gen)"
   ]
  },
  {
   "cell_type": "code",
   "execution_count": 24,
   "id": "f701350b",
   "metadata": {},
   "outputs": [
    {
     "data": {
      "text/plain": [
       "str"
      ]
     },
     "execution_count": 24,
     "metadata": {},
     "output_type": "execute_result"
    }
   ],
   "source": [
    "type(chunk_ques_gen[0])"
   ]
  },
  {
   "cell_type": "code",
   "execution_count": 25,
   "id": "c3857d97",
   "metadata": {},
   "outputs": [],
   "source": [
    "from langchain.docstore.document import Document"
   ]
  },
  {
   "cell_type": "code",
   "execution_count": 26,
   "id": "2fc9b7b8",
   "metadata": {},
   "outputs": [],
   "source": [
    "document_ques_gen = [Document(page_content = t) for t in chunk_ques_gen]"
   ]
  },
  {
   "cell_type": "code",
   "execution_count": 27,
   "id": "e2bab23d",
   "metadata": {},
   "outputs": [
    {
     "data": {
      "text/plain": [
       "[Document(metadata={}, page_content=\"Supervised LearningData Mining ProcessAutoMLSupervised Learning\\n•The computer is provided with example inputs that are labeled with \\ntheir desired outputs. \\n•Supervised learning uses patterns to predict label values on additional \\nunlabeled data.\\n•An algorithm may be fed data with images of sharks labeled as fish \\nand images of oceans labeled as water. \\n•By being trained on this data, the supervised learning algorithm \\nshould be able to later identify unlabeled shark images as fish and \\nunlabeled ocean images as water.Supervised LearningWhat is ClassificationTraining & TestingPercentage SplitCross ValidationCross ValidationIn Simple Terms?\\nBuy a Bike\\nProbability 65% \\nBuy a Bike\\nProbability  20% \\nAge 30\\nCars 1\\nCars 2\\nAge 60Iris-setosa Iris-versicolor\\nIris-virginicaAccuracy of NB\\n•Error Rate\\n•(T  - C ) / T\\n• T – Number of Objects\\n• C – correctly classified objects.\\n•Confusion matrix\\n Predicated \\nClass\\nTrue Class\\n A B C\\nA 8 1 1\\nB 2 9 2\\nC 0 0 7Classification Performance Measures \\n•Recall = a/(a+c) where a + c > 0 (o.w. undefined).  \\n•Did we find all of those that belonged in the class?\\n•Precision = a/(a+b) where a+b>0 (o.w. undefined).\\n•Of the times we predicted it was “in class”, how often are we correct?F1 Score / F1 MeasureMatthews Correlation Coefficient\\nThe MCC doesn't depend on which class is the positive one, which has \\nthe advantage over the F1 score to avoid incorrectly defining the \\npositive class.•False Positive (FP)\\n•FP cases are those that did not belong to a class but allocated to it.\\n•False Negative (FN)\\n•FN are cases that belong to a class but were not allocated to it.\\n FP FN\\nClass 1 2 2\\nClass 2 4 1\\nClass 3 0 3•Sensitivity = TP / (TP + FN)\\n•Specificity = TN/(TN + FP )Decision Trees\")]"
      ]
     },
     "execution_count": 27,
     "metadata": {},
     "output_type": "execute_result"
    }
   ],
   "source": [
    "document_ques_gen"
   ]
  },
  {
   "cell_type": "code",
   "execution_count": 28,
   "id": "758564a3",
   "metadata": {},
   "outputs": [
    {
     "data": {
      "text/plain": [
       "langchain_core.documents.base.Document"
      ]
     },
     "execution_count": 28,
     "metadata": {},
     "output_type": "execute_result"
    }
   ],
   "source": [
    "type(document_ques_gen[0])"
   ]
  },
  {
   "cell_type": "code",
   "execution_count": 45,
   "id": "9759306d",
   "metadata": {},
   "outputs": [],
   "source": [
    "splitter_ans_gen = TokenTextSplitter(\n",
    "    model_name = 'gpt-3.5-turbo',\n",
    "    chunk_size = 500,\n",
    "    chunk_overlap = 50\n",
    ")"
   ]
  },
  {
   "cell_type": "code",
   "execution_count": 46,
   "id": "7eb47131",
   "metadata": {},
   "outputs": [],
   "source": [
    "document_answer_gen = splitter_ans_gen.split_documents(\n",
    "    document_ques_gen\n",
    ")"
   ]
  },
  {
   "cell_type": "code",
   "execution_count": 47,
   "id": "1111f75c",
   "metadata": {},
   "outputs": [
    {
     "data": {
      "text/plain": [
       "[Document(metadata={}, page_content=\"Supervised LearningData Mining ProcessAutoMLSupervised Learning\\n•The computer is provided with example inputs that are labeled with \\ntheir desired outputs. \\n•Supervised learning uses patterns to predict label values on additional \\nunlabeled data.\\n•An algorithm may be fed data with images of sharks labeled as fish \\nand images of oceans labeled as water. \\n•By being trained on this data, the supervised learning algorithm \\nshould be able to later identify unlabeled shark images as fish and \\nunlabeled ocean images as water.Supervised LearningWhat is ClassificationTraining & TestingPercentage SplitCross ValidationCross ValidationIn Simple Terms?\\nBuy a Bike\\nProbability 65% \\nBuy a Bike\\nProbability  20% \\nAge 30\\nCars 1\\nCars 2\\nAge 60Iris-setosa Iris-versicolor\\nIris-virginicaAccuracy of NB\\n•Error Rate\\n•(T  - C ) / T\\n• T – Number of Objects\\n• C – correctly classified objects.\\n•Confusion matrix\\n Predicated \\nClass\\nTrue Class\\n A B C\\nA 8 1 1\\nB 2 9 2\\nC 0 0 7Classification Performance Measures \\n•Recall = a/(a+c) where a + c > 0 (o.w. undefined).  \\n•Did we find all of those that belonged in the class?\\n•Precision = a/(a+b) where a+b>0 (o.w. undefined).\\n•Of the times we predicted it was “in class”, how often are we correct?F1 Score / F1 MeasureMatthews Correlation Coefficient\\nThe MCC doesn't depend on which class is the positive one, which has \\nthe advantage over the F1 score to avoid incorrectly defining the \\npositive class.•False Positive (FP)\\n•FP cases are those that did not belong to a class but allocated to it.\\n•False Negative (FN)\\n•FN are cases that belong to a class but were not allocated to it.\\n FP FN\\nClass 1 2 2\\nClass 2 4 1\\nClass 3 0 3•Sensitivity = TP / (TP + FN)\\n•Specificity = TN/(TN + FP )Decision Trees\")]"
      ]
     },
     "execution_count": 47,
     "metadata": {},
     "output_type": "execute_result"
    }
   ],
   "source": [
    "document_answer_gen"
   ]
  },
  {
   "cell_type": "code",
   "execution_count": 48,
   "id": "f09350b7",
   "metadata": {},
   "outputs": [
    {
     "data": {
      "text/plain": [
       "1"
      ]
     },
     "execution_count": 48,
     "metadata": {},
     "output_type": "execute_result"
    }
   ],
   "source": [
    "len(document_answer_gen)"
   ]
  },
  {
   "cell_type": "code",
   "execution_count": 49,
   "id": "0fe007d6",
   "metadata": {},
   "outputs": [],
   "source": [
    "from langchain.chat_models import ChatOpenAI"
   ]
  },
  {
   "cell_type": "code",
   "execution_count": 34,
   "id": "9b2f40cc",
   "metadata": {},
   "outputs": [
    {
     "name": "stderr",
     "output_type": "stream",
     "text": [
      "C:\\Users\\Chulaxshan\\AppData\\Local\\Temp\\ipykernel_10520\\1473655646.py:1: LangChainDeprecationWarning: The class `ChatOpenAI` was deprecated in LangChain 0.0.10 and will be removed in 1.0. An updated version of the class exists in the :class:`~langchain-openai package and should be used instead. To use it run `pip install -U :class:`~langchain-openai` and import as `from :class:`~langchain_openai import ChatOpenAI``.\n",
      "  llm_ques_gen_pipeline = ChatOpenAI(\n"
     ]
    }
   ],
   "source": [
    "llm_ques_gen_pipeline = ChatOpenAI(\n",
    "    model = 'gpt-3.5-turbo',\n",
    "    temperature = 0.3\n",
    ")"
   ]
  },
  {
   "cell_type": "code",
   "execution_count": 50,
   "id": "924ba682",
   "metadata": {},
   "outputs": [],
   "source": [
    "prompt_template = \"\"\"\n",
    "You are an expert at creating questions based on coding materials and documentation.\n",
    "Your goal is to prepare a coder or programmer for their exam and coding tests.\n",
    "You do this by asking questions about the text below:\n",
    "\n",
    "------------\n",
    "{text}\n",
    "------------\n",
    "\n",
    "Create questions that will prepare the coders or programmers for their tests.\n",
    "Make sure not to lose any important information.\n",
    "\n",
    "QUESTIONS:\n",
    "\"\"\""
   ]
  },
  {
   "cell_type": "code",
   "execution_count": 51,
   "id": "4ac67691",
   "metadata": {},
   "outputs": [],
   "source": [
    "from langchain.prompts import PromptTemplate"
   ]
  },
  {
   "cell_type": "code",
   "execution_count": 52,
   "id": "c75bad7d",
   "metadata": {},
   "outputs": [],
   "source": [
    "PROMPT_QUESTIONS = PromptTemplate(template=prompt_template, input_variables=['text'])"
   ]
  },
  {
   "cell_type": "code",
   "execution_count": 53,
   "id": "502bce24",
   "metadata": {},
   "outputs": [],
   "source": [
    "refine_template = (\"\"\"\n",
    "You are an expert at creating practice questions based on coding material and documentation.\n",
    "Your goal is to help a coder or programmer prepare for a coding test.\n",
    "We have received some practice questions to a certain extent: {existing_answer}.\n",
    "We have the option to refine the existing questions or add new ones.\n",
    "(only if necessary) with some more context below.\n",
    "------------\n",
    "{text}\n",
    "------------\n",
    "\n",
    "Given the new context, refine the original questions in English.\n",
    "If the context is not helpful, please provide the original questions.\n",
    "QUESTIONS:\n",
    "\"\"\"\n",
    ")\n"
   ]
  },
  {
   "cell_type": "code",
   "execution_count": 54,
   "id": "9ebb379e",
   "metadata": {},
   "outputs": [],
   "source": [
    "REFINE_PROMPT_QUESTIONS = PromptTemplate(\n",
    "    input_variables=[\"existing_answer\", \"text\"],\n",
    "    template=refine_template,\n",
    ")"
   ]
  },
  {
   "cell_type": "code",
   "execution_count": 55,
   "id": "37524163",
   "metadata": {},
   "outputs": [],
   "source": [
    "from langchain.chains.summarize import load_summarize_chain"
   ]
  },
  {
   "cell_type": "code",
   "execution_count": 56,
   "id": "5e21c0a0",
   "metadata": {},
   "outputs": [],
   "source": [
    "ques_gen_chain = load_summarize_chain(llm = llm_ques_gen_pipeline, \n",
    "                                          chain_type = \"refine\", \n",
    "                                          verbose = True, \n",
    "                                          question_prompt=PROMPT_QUESTIONS, \n",
    "                                          refine_prompt=REFINE_PROMPT_QUESTIONS)"
   ]
  },
  {
   "cell_type": "code",
   "execution_count": 57,
   "id": "f057121a",
   "metadata": {},
   "outputs": [
    {
     "name": "stdout",
     "output_type": "stream",
     "text": [
      "\n",
      "\n",
      "\u001b[1m> Entering new RefineDocumentsChain chain...\u001b[0m\n",
      "\n",
      "\n",
      "\u001b[1m> Entering new LLMChain chain...\u001b[0m\n",
      "Prompt after formatting:\n",
      "\u001b[32;1m\u001b[1;3m\n",
      "You are an expert at creating questions based on coding materials and documentation.\n",
      "Your goal is to prepare a coder or programmer for their exam and coding tests.\n",
      "You do this by asking questions about the text below:\n",
      "\n",
      "------------\n",
      "Supervised LearningData Mining ProcessAutoMLSupervised Learning\n",
      "•The computer is provided with example inputs that are labeled with \n",
      "their desired outputs. \n",
      "•Supervised learning uses patterns to predict label values on additional \n",
      "unlabeled data.\n",
      "•An algorithm may be fed data with images of sharks labeled as fish \n",
      "and images of oceans labeled as water. \n",
      "•By being trained on this data, the supervised learning algorithm \n",
      "should be able to later identify unlabeled shark images as fish and \n",
      "unlabeled ocean images as water.Supervised LearningWhat is ClassificationTraining & TestingPercentage SplitCross ValidationCross ValidationIn Simple Terms?\n",
      "Buy a Bike\n",
      "Probability 65% \n",
      "Buy a Bike\n",
      "Probability  20% \n",
      "Age 30\n",
      "Cars 1\n",
      "Cars 2\n",
      "Age 60Iris-setosa Iris-versicolor\n",
      "Iris-virginicaAccuracy of NB\n",
      "•Error Rate\n",
      "•(T  - C ) / T\n",
      "• T – Number of Objects\n",
      "• C – correctly classified objects.\n",
      "•Confusion matrix\n",
      " Predicated \n",
      "Class\n",
      "True Class\n",
      " A B C\n",
      "A 8 1 1\n",
      "B 2 9 2\n",
      "C 0 0 7Classification Performance Measures \n",
      "•Recall = a/(a+c) where a + c > 0 (o.w. undefined).  \n",
      "•Did we find all of those that belonged in the class?\n",
      "•Precision = a/(a+b) where a+b>0 (o.w. undefined).\n",
      "•Of the times we predicted it was “in class”, how often are we correct?F1 Score / F1 MeasureMatthews Correlation Coefficient\n",
      "The MCC doesn't depend on which class is the positive one, which has \n",
      "the advantage over the F1 score to avoid incorrectly defining the \n",
      "positive class.•False Positive (FP)\n",
      "•FP cases are those that did not belong to a class but allocated to it.\n",
      "•False Negative (FN)\n",
      "•FN are cases that belong to a class but were not allocated to it.\n",
      " FP FN\n",
      "Class 1 2 2\n",
      "Class 2 4 1\n",
      "Class 3 0 3•Sensitivity = TP / (TP + FN)\n",
      "•Specificity = TN/(TN + FP )Decision Trees\n",
      "------------\n",
      "\n",
      "Create questions that will prepare the coders or programmers for their tests.\n",
      "Make sure not to lose any important information.\n",
      "\n",
      "QUESTIONS:\n",
      "\u001b[0m\n",
      "\n",
      "\u001b[1m> Finished chain.\u001b[0m\n",
      "\n",
      "\u001b[1m> Finished chain.\u001b[0m\n",
      "1. What is the main concept behind supervised learning?\n",
      "2. How does supervised learning use labeled data to make predictions on unlabeled data?\n",
      "3. Can you explain the process of cross-validation in simple terms?\n",
      "4. How is the accuracy of a Naive Bayes classifier calculated?\n",
      "5. What are the key performance measures used in classification, and how are they calculated?\n",
      "6. How does the Matthews Correlation Coefficient differ from the F1 score in evaluating classification performance?\n",
      "7. What are false positives and false negatives in the context of classification?\n",
      "8. How are sensitivity and specificity calculated in the context of classification?\n",
      "9. Can you explain the concept of decision trees and how they are used in data mining?\n",
      "10. How does AutoML automate the machine learning model selection and training process?\n"
     ]
    }
   ],
   "source": [
    "ques = ques_gen_chain.run(document_ques_gen)\n",
    "\n",
    "print(ques)"
   ]
  },
  {
   "cell_type": "code",
   "execution_count": 58,
   "id": "47034e1d",
   "metadata": {},
   "outputs": [],
   "source": [
    "from langchain.embeddings import OpenAIEmbeddings"
   ]
  },
  {
   "cell_type": "code",
   "execution_count": 59,
   "id": "796701b9",
   "metadata": {},
   "outputs": [
    {
     "name": "stderr",
     "output_type": "stream",
     "text": [
      "C:\\Users\\Chulaxshan\\AppData\\Local\\Temp\\ipykernel_10520\\3951078898.py:1: LangChainDeprecationWarning: The class `OpenAIEmbeddings` was deprecated in LangChain 0.0.9 and will be removed in 1.0. An updated version of the class exists in the :class:`~langchain-openai package and should be used instead. To use it run `pip install -U :class:`~langchain-openai` and import as `from :class:`~langchain_openai import OpenAIEmbeddings``.\n",
      "  embeddings = OpenAIEmbeddings(model=\"text-embedding-3-small\")\n"
     ]
    }
   ],
   "source": [
    "embeddings = OpenAIEmbeddings(model=\"text-embedding-3-small\")"
   ]
  },
  {
   "cell_type": "code",
   "execution_count": 60,
   "id": "d56008de",
   "metadata": {},
   "outputs": [],
   "source": [
    "from langchain.vectorstores import FAISS"
   ]
  },
  {
   "cell_type": "code",
   "execution_count": 61,
   "id": "a4a1aa93",
   "metadata": {},
   "outputs": [],
   "source": [
    "vector_store = FAISS.from_documents(document_answer_gen, embeddings)"
   ]
  },
  {
   "cell_type": "code",
   "execution_count": 62,
   "id": "c08987f1",
   "metadata": {},
   "outputs": [],
   "source": [
    "llm_answer_gen = ChatOpenAI(temperature=0.1, model=\"gpt-3.5-turbo\")"
   ]
  },
  {
   "cell_type": "code",
   "execution_count": 63,
   "id": "98154ab5",
   "metadata": {},
   "outputs": [
    {
     "data": {
      "text/plain": [
       "['1. What is the main concept behind supervised learning?',\n",
       " '2. How does supervised learning use labeled data to make predictions on unlabeled data?',\n",
       " '3. Can you explain the process of cross-validation in simple terms?',\n",
       " '4. How is the accuracy of a Naive Bayes classifier calculated?',\n",
       " '5. What are the key performance measures used in classification, and how are they calculated?',\n",
       " '6. How does the Matthews Correlation Coefficient differ from the F1 score in evaluating classification performance?',\n",
       " '7. What are false positives and false negatives in the context of classification?',\n",
       " '8. How are sensitivity and specificity calculated in the context of classification?',\n",
       " '9. Can you explain the concept of decision trees and how they are used in data mining?',\n",
       " '10. How does AutoML automate the machine learning model selection and training process?']"
      ]
     },
     "execution_count": 63,
     "metadata": {},
     "output_type": "execute_result"
    }
   ],
   "source": [
    "ques_list = ques.split(\"\\n\")\n",
    "ques_list"
   ]
  },
  {
   "cell_type": "code",
   "execution_count": 66,
   "id": "549a61ab",
   "metadata": {},
   "outputs": [],
   "source": [
    "from langchain.chains import RetrievalQA\n",
    "\n",
    "answer_generation_chain = RetrievalQA.from_chain_type(\n",
    "    llm=llm_answer_gen,\n",
    "    chain_type=\"stuff\",\n",
    "    retriever=vector_store.as_retriever()\n",
    ")"
   ]
  },
  {
   "cell_type": "code",
   "execution_count": 67,
   "id": "c8df0d8d",
   "metadata": {},
   "outputs": [
    {
     "name": "stdout",
     "output_type": "stream",
     "text": [
      "Question:  1. What is the main concept behind supervised learning?\n",
      "Answer:  The main concept behind supervised learning is that the computer is provided with example inputs that are labeled with their desired outputs. This means that the algorithm is trained on labeled data to learn the patterns and relationships between inputs and outputs, allowing it to make predictions on new, unlabeled data based on the patterns it has learned.\n",
      "--------------------------------------------------\\n\\n\n",
      "Question:  2. How does supervised learning use labeled data to make predictions on unlabeled data?\n",
      "Answer:  Supervised learning uses labeled data to train a model to recognize patterns and relationships between input features and output labels. Once the model is trained on the labeled data, it can then be used to make predictions on new, unlabeled data by applying the learned patterns to the new data and predicting the corresponding labels based on those patterns.\n",
      "--------------------------------------------------\\n\\n\n",
      "Question:  3. Can you explain the process of cross-validation in simple terms?\n",
      "Answer:  Cross-validation is a technique used to evaluate how well a predictive model will perform on new data. It involves splitting the dataset into multiple subsets. One subset is used as the testing set to evaluate the model, while the rest are used as training sets. This process is repeated multiple times, with each subset taking turns as the testing set. By doing this, we can get a more accurate assessment of how well the model will generalize to new, unseen data.\n",
      "--------------------------------------------------\\n\\n\n",
      "Question:  4. How is the accuracy of a Naive Bayes classifier calculated?\n",
      "Answer:  The accuracy of a Naive Bayes classifier is calculated using the error rate formula: (Total number of objects - Number of correctly classified objects) / Total number of objects. This formula helps determine the proportion of correctly classified objects out of the total number of objects.\n",
      "--------------------------------------------------\\n\\n\n",
      "Question:  5. What are the key performance measures used in classification, and how are they calculated?\n",
      "Answer:  The key performance measures used in classification are:\n",
      "\n",
      "1. **Accuracy**: Calculated as (Number of Correctly Classified Instances / Total Number of Instances).\n",
      "\n",
      "2. **Recall (Sensitivity)**: Calculated as True Positives / (True Positives + False Negatives). It measures how many actual positive instances were correctly predicted.\n",
      "\n",
      "3. **Precision**: Calculated as True Positives / (True Positives + False Positives). It measures how many predicted positive instances were actually positive.\n",
      "\n",
      "4. **F1 Score**: The harmonic mean of precision and recall, calculated as 2 * (Precision * Recall) / (Precision + Recall). It provides a balance between precision and recall.\n",
      "\n",
      "5. **Matthews Correlation Coefficient (MCC)**: It is a correlation coefficient between the observed and predicted binary classifications. It ranges from -1 to 1, where 1 indicates a perfect prediction, 0 is random, and -1 is total disagreement between prediction and observation.\n",
      "\n",
      "These performance measures help in evaluating the effectiveness of a classification model.\n",
      "--------------------------------------------------\\n\\n\n",
      "Question:  6. How does the Matthews Correlation Coefficient differ from the F1 score in evaluating classification performance?\n",
      "Answer:  The Matthews Correlation Coefficient (MCC) doesn't depend on which class is the positive one, which gives it an advantage over the F1 score in avoiding incorrectly defining the positive class. The F1 score is the harmonic mean of precision and recall, while the MCC considers all four values in the confusion matrix (true positives, true negatives, false positives, and false negatives) to calculate a correlation coefficient.\n",
      "--------------------------------------------------\\n\\n\n",
      "Question:  7. What are false positives and false negatives in the context of classification?\n",
      "Answer:  In the context of classification, false positives (FP) are cases that are predicted to belong to a certain class but actually do not belong to that class. False negatives (FN) are cases that belong to a certain class but are incorrectly predicted not to belong to that class.\n",
      "--------------------------------------------------\\n\\n\n",
      "Question:  8. How are sensitivity and specificity calculated in the context of classification?\n",
      "Answer:  Sensitivity is calculated as TP / (TP + FN), where TP is the number of true positives and FN is the number of false negatives. It measures the proportion of actual positive cases that were correctly identified. \n",
      "\n",
      "Specificity is calculated as TN / (TN + FP), where TN is the number of true negatives and FP is the number of false positives. It measures the proportion of actual negative cases that were correctly identified.\n",
      "--------------------------------------------------\\n\\n\n",
      "Question:  9. Can you explain the concept of decision trees and how they are used in data mining?\n",
      "Answer:  Decision trees are a popular machine learning algorithm used in data mining for classification and regression tasks. They work by recursively splitting the data into subsets based on the features that best separate the classes or predict the target variable. Each internal node represents a feature, each branch represents a decision based on that feature, and each leaf node represents the outcome or class label. \n",
      "\n",
      "In data mining, decision trees are used to make predictions by following the path from the root node to a leaf node based on the input features. They are easy to interpret and visualize, making them useful for understanding the decision-making process. Decision trees can handle both numerical and categorical data, and they can handle missing values as well.\n",
      "\n",
      "Overall, decision trees are versatile and powerful tools in data mining for tasks such as classification, regression, and even feature selection. They are used in various industries for tasks like customer segmentation, fraud detection, and medical diagnosis.\n",
      "--------------------------------------------------\\n\\n\n",
      "Question:  10. How does AutoML automate the machine learning model selection and training process?\n",
      "Answer:  AutoML automates the machine learning model selection and training process by automatically selecting the best machine learning algorithms, hyperparameters, and preprocessing techniques for a given dataset. It does this by running multiple algorithms and configurations in parallel, optimizing them based on performance metrics, and selecting the best-performing model. This automation saves time and effort for data scientists and allows for faster and more efficient model development.\n",
      "--------------------------------------------------\\n\\n\n"
     ]
    }
   ],
   "source": [
    "for question in ques_list:\n",
    "    print(\"Question: \", question)\n",
    "    answer = answer_generation_chain.run(question)\n",
    "    print(\"Answer: \", answer)\n",
    "    print(\"--------------------------------------------------\\\\n\\\\n\")\n",
    "    # Save answer to file\n",
    "    with open(\"answers.txt\", \"a\") as f:\n",
    "        f.write(\"Question: \" + question + \"\\\\n\")\n",
    "        f.write(\"Answer: \" + answer + \"\\\\n\")\n",
    "        f.write(\"--------------------------------------------------\\\\n\\\\n\")"
   ]
  }
 ],
 "metadata": {
  "kernelspec": {
   "display_name": "Python 3",
   "language": "python",
   "name": "python3"
  },
  "language_info": {
   "codemirror_mode": {
    "name": "ipython",
    "version": 3
   },
   "file_extension": ".py",
   "mimetype": "text/x-python",
   "name": "python",
   "nbconvert_exporter": "python",
   "pygments_lexer": "ipython3",
   "version": "3.10.16"
  }
 },
 "nbformat": 4,
 "nbformat_minor": 5
}
